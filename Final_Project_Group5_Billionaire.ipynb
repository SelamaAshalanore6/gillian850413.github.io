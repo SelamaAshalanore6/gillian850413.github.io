{
 "cells": [
  {
   "cell_type": "markdown",
   "metadata": {},
   "source": [
    "# Final Project - Part 2\n",
    "## Billionaire Dataset Dashboard\n",
    "\n",
    "Date: 04/12/2019"
   ]
  },
  {
   "cell_type": "code",
   "execution_count": 1,
   "metadata": {},
   "outputs": [],
   "source": [
    "import pandas as pd\n",
    "import numpy as np\n",
    "import bqplot\n",
    "from bqplot import pyplot as plt\n",
    "from bqplot import *\n",
    "import bqplot.market_map\n",
    "import ipywidgets\n",
    "from ipywidgets import Layout"
   ]
  },
  {
   "cell_type": "code",
   "execution_count": 2,
   "metadata": {},
   "outputs": [],
   "source": [
    "data = pd.read_csv('billionaires.csv')"
   ]
  },
  {
   "cell_type": "code",
   "execution_count": 3,
   "metadata": {},
   "outputs": [
    {
     "data": {
      "text/html": [
       "<div>\n",
       "<style scoped>\n",
       "    .dataframe tbody tr th:only-of-type {\n",
       "        vertical-align: middle;\n",
       "    }\n",
       "\n",
       "    .dataframe tbody tr th {\n",
       "        vertical-align: top;\n",
       "    }\n",
       "\n",
       "    .dataframe thead th {\n",
       "        text-align: right;\n",
       "    }\n",
       "</style>\n",
       "<table border=\"1\" class=\"dataframe\">\n",
       "  <thead>\n",
       "    <tr style=\"text-align: right;\">\n",
       "      <th></th>\n",
       "      <th>age</th>\n",
       "      <th>category</th>\n",
       "      <th>citizenship</th>\n",
       "      <th>company.name</th>\n",
       "      <th>company.type</th>\n",
       "      <th>country code</th>\n",
       "      <th>founded</th>\n",
       "      <th>from emerging</th>\n",
       "      <th>gdp</th>\n",
       "      <th>gender</th>\n",
       "      <th>...</th>\n",
       "      <th>name</th>\n",
       "      <th>rank</th>\n",
       "      <th>region</th>\n",
       "      <th>relationship</th>\n",
       "      <th>sector</th>\n",
       "      <th>was founder</th>\n",
       "      <th>was political</th>\n",
       "      <th>wealth.type</th>\n",
       "      <th>worth in billions</th>\n",
       "      <th>year</th>\n",
       "    </tr>\n",
       "  </thead>\n",
       "  <tbody>\n",
       "    <tr>\n",
       "      <th>0</th>\n",
       "      <td>-1</td>\n",
       "      <td>Financial</td>\n",
       "      <td>Saudi Arabia</td>\n",
       "      <td>Rolaco Trading and Contracting Company</td>\n",
       "      <td>new</td>\n",
       "      <td>SAU</td>\n",
       "      <td>1968</td>\n",
       "      <td>True</td>\n",
       "      <td>1.580000e+11</td>\n",
       "      <td>male</td>\n",
       "      <td>...</td>\n",
       "      <td>Abdul Aziz Al-Sulaiman</td>\n",
       "      <td>404</td>\n",
       "      <td>Middle East/North Africa</td>\n",
       "      <td>founder</td>\n",
       "      <td>construction</td>\n",
       "      <td>True</td>\n",
       "      <td>False</td>\n",
       "      <td>self-made finance</td>\n",
       "      <td>1.0</td>\n",
       "      <td>1996</td>\n",
       "    </tr>\n",
       "    <tr>\n",
       "      <th>1</th>\n",
       "      <td>34</td>\n",
       "      <td>Financial</td>\n",
       "      <td>United States</td>\n",
       "      <td>Fidelity Investments</td>\n",
       "      <td>new</td>\n",
       "      <td>USA</td>\n",
       "      <td>1946</td>\n",
       "      <td>True</td>\n",
       "      <td>8.100000e+12</td>\n",
       "      <td>female</td>\n",
       "      <td>...</td>\n",
       "      <td>Abigail Johnson</td>\n",
       "      <td>145</td>\n",
       "      <td>North America</td>\n",
       "      <td>relation</td>\n",
       "      <td>investment banking</td>\n",
       "      <td>True</td>\n",
       "      <td>False</td>\n",
       "      <td>inherited</td>\n",
       "      <td>2.5</td>\n",
       "      <td>1996</td>\n",
       "    </tr>\n",
       "    <tr>\n",
       "      <th>2</th>\n",
       "      <td>59</td>\n",
       "      <td>Non-Traded Sectors</td>\n",
       "      <td>Brazil</td>\n",
       "      <td>Companhia Brasileira de Distribui?ao</td>\n",
       "      <td>new</td>\n",
       "      <td>BRA</td>\n",
       "      <td>1948</td>\n",
       "      <td>True</td>\n",
       "      <td>8.540000e+11</td>\n",
       "      <td>male</td>\n",
       "      <td>...</td>\n",
       "      <td>Abilio dos Santos Diniz</td>\n",
       "      <td>322</td>\n",
       "      <td>Latin America</td>\n",
       "      <td>relation</td>\n",
       "      <td>retail</td>\n",
       "      <td>True</td>\n",
       "      <td>False</td>\n",
       "      <td>inherited</td>\n",
       "      <td>1.2</td>\n",
       "      <td>1996</td>\n",
       "    </tr>\n",
       "    <tr>\n",
       "      <th>3</th>\n",
       "      <td>61</td>\n",
       "      <td>New Sectors</td>\n",
       "      <td>Germany</td>\n",
       "      <td>Ratiopharm</td>\n",
       "      <td>new</td>\n",
       "      <td>DEU</td>\n",
       "      <td>1881</td>\n",
       "      <td>True</td>\n",
       "      <td>2.500000e+12</td>\n",
       "      <td>male</td>\n",
       "      <td>...</td>\n",
       "      <td>Adolf Merckle</td>\n",
       "      <td>388</td>\n",
       "      <td>Europe</td>\n",
       "      <td>relation</td>\n",
       "      <td>pharmaceuticals</td>\n",
       "      <td>True</td>\n",
       "      <td>False</td>\n",
       "      <td>inherited</td>\n",
       "      <td>1.0</td>\n",
       "      <td>1996</td>\n",
       "    </tr>\n",
       "    <tr>\n",
       "      <th>4</th>\n",
       "      <td>-1</td>\n",
       "      <td>Financial</td>\n",
       "      <td>Hong Kong</td>\n",
       "      <td>Swire</td>\n",
       "      <td>new</td>\n",
       "      <td>HKG</td>\n",
       "      <td>1816</td>\n",
       "      <td>True</td>\n",
       "      <td>1.600000e+11</td>\n",
       "      <td>male</td>\n",
       "      <td>...</td>\n",
       "      <td>Adrian and John Swire</td>\n",
       "      <td>162</td>\n",
       "      <td>East Asia</td>\n",
       "      <td>relation</td>\n",
       "      <td>trading company</td>\n",
       "      <td>True</td>\n",
       "      <td>False</td>\n",
       "      <td>inherited</td>\n",
       "      <td>2.2</td>\n",
       "      <td>1996</td>\n",
       "    </tr>\n",
       "  </tbody>\n",
       "</table>\n",
       "<p>5 rows × 22 columns</p>\n",
       "</div>"
      ],
      "text/plain": [
       "   age            category    citizenship  \\\n",
       "0   -1           Financial   Saudi Arabia   \n",
       "1   34           Financial  United States   \n",
       "2   59  Non-Traded Sectors         Brazil   \n",
       "3   61         New Sectors        Germany   \n",
       "4   -1           Financial      Hong Kong   \n",
       "\n",
       "                             company.name company.type country code  founded  \\\n",
       "0  Rolaco Trading and Contracting Company          new          SAU     1968   \n",
       "1                    Fidelity Investments          new          USA     1946   \n",
       "2    Companhia Brasileira de Distribui?ao          new          BRA     1948   \n",
       "3                              Ratiopharm          new          DEU     1881   \n",
       "4                                   Swire          new          HKG     1816   \n",
       "\n",
       "   from emerging           gdp  gender  ...                     name  rank  \\\n",
       "0           True  1.580000e+11    male  ...   Abdul Aziz Al-Sulaiman   404   \n",
       "1           True  8.100000e+12  female  ...          Abigail Johnson   145   \n",
       "2           True  8.540000e+11    male  ...  Abilio dos Santos Diniz   322   \n",
       "3           True  2.500000e+12    male  ...            Adolf Merckle   388   \n",
       "4           True  1.600000e+11    male  ...    Adrian and John Swire   162   \n",
       "\n",
       "                     region  relationship              sector was founder  \\\n",
       "0  Middle East/North Africa       founder        construction        True   \n",
       "1             North America      relation  investment banking        True   \n",
       "2             Latin America      relation              retail        True   \n",
       "3                    Europe      relation     pharmaceuticals        True   \n",
       "4                 East Asia      relation     trading company        True   \n",
       "\n",
       "  was political        wealth.type  worth in billions  year  \n",
       "0         False  self-made finance                1.0  1996  \n",
       "1         False          inherited                2.5  1996  \n",
       "2         False          inherited                1.2  1996  \n",
       "3         False          inherited                1.0  1996  \n",
       "4         False          inherited                2.2  1996  \n",
       "\n",
       "[5 rows x 22 columns]"
      ]
     },
     "execution_count": 3,
     "metadata": {},
     "output_type": "execute_result"
    }
   ],
   "source": [
    "data.head()"
   ]
  },
  {
   "cell_type": "code",
   "execution_count": 4,
   "metadata": {},
   "outputs": [],
   "source": [
    "heat_piv = data.pivot_table(values='country code', index='citizenship', \n",
    "                              columns='year', aggfunc='count').fillna(0).reset_index()"
   ]
  },
  {
   "cell_type": "code",
   "execution_count": 5,
   "metadata": {},
   "outputs": [
    {
     "data": {
      "text/html": [
       "<div>\n",
       "<style scoped>\n",
       "    .dataframe tbody tr th:only-of-type {\n",
       "        vertical-align: middle;\n",
       "    }\n",
       "\n",
       "    .dataframe tbody tr th {\n",
       "        vertical-align: top;\n",
       "    }\n",
       "\n",
       "    .dataframe thead th {\n",
       "        text-align: right;\n",
       "    }\n",
       "</style>\n",
       "<table border=\"1\" class=\"dataframe\">\n",
       "  <thead>\n",
       "    <tr style=\"text-align: right;\">\n",
       "      <th>year</th>\n",
       "      <th>citizenship</th>\n",
       "      <th>1996</th>\n",
       "      <th>2001</th>\n",
       "      <th>2014</th>\n",
       "    </tr>\n",
       "  </thead>\n",
       "  <tbody>\n",
       "    <tr>\n",
       "      <th>0</th>\n",
       "      <td>Algeria</td>\n",
       "      <td>0.0</td>\n",
       "      <td>0.0</td>\n",
       "      <td>1.0</td>\n",
       "    </tr>\n",
       "    <tr>\n",
       "      <th>1</th>\n",
       "      <td>Angola</td>\n",
       "      <td>0.0</td>\n",
       "      <td>0.0</td>\n",
       "      <td>1.0</td>\n",
       "    </tr>\n",
       "    <tr>\n",
       "      <th>2</th>\n",
       "      <td>Argentina</td>\n",
       "      <td>3.0</td>\n",
       "      <td>4.0</td>\n",
       "      <td>5.0</td>\n",
       "    </tr>\n",
       "    <tr>\n",
       "      <th>3</th>\n",
       "      <td>Australia</td>\n",
       "      <td>1.0</td>\n",
       "      <td>3.0</td>\n",
       "      <td>29.0</td>\n",
       "    </tr>\n",
       "    <tr>\n",
       "      <th>4</th>\n",
       "      <td>Austria</td>\n",
       "      <td>0.0</td>\n",
       "      <td>0.0</td>\n",
       "      <td>10.0</td>\n",
       "    </tr>\n",
       "  </tbody>\n",
       "</table>\n",
       "</div>"
      ],
      "text/plain": [
       "year citizenship  1996  2001  2014\n",
       "0        Algeria   0.0   0.0   1.0\n",
       "1         Angola   0.0   0.0   1.0\n",
       "2      Argentina   3.0   4.0   5.0\n",
       "3      Australia   1.0   3.0  29.0\n",
       "4        Austria   0.0   0.0  10.0"
      ]
     },
     "execution_count": 5,
     "metadata": {},
     "output_type": "execute_result"
    }
   ],
   "source": [
    "heat_piv.head()"
   ]
  },
  {
   "cell_type": "code",
   "execution_count": 6,
   "metadata": {},
   "outputs": [
    {
     "data": {
      "text/plain": [
       "73"
      ]
     },
     "execution_count": 6,
     "metadata": {},
     "output_type": "execute_result"
    }
   ],
   "source": [
    "len(heat_piv['citizenship'])"
   ]
  },
  {
   "cell_type": "markdown",
   "metadata": {},
   "source": [
    "## Create Year Dropdown"
   ]
  },
  {
   "cell_type": "code",
   "execution_count": 7,
   "metadata": {},
   "outputs": [],
   "source": [
    "year_list = list(data['year'].unique())"
   ]
  },
  {
   "cell_type": "code",
   "execution_count": 8,
   "metadata": {},
   "outputs": [],
   "source": [
    "#create a year dropdown  \n",
    "year_dropdown = ipywidgets.widgets.Dropdown(\n",
    "                        options=year_list,\n",
    "                        value=year_list[0],\n",
    "                        description='Year:',\n",
    "                        disabled=False\n",
    "                    )"
   ]
  },
  {
   "cell_type": "markdown",
   "metadata": {},
   "source": [
    "## Create Country Market Map"
   ]
  },
  {
   "cell_type": "code",
   "execution_count": 9,
   "metadata": {},
   "outputs": [],
   "source": [
    "def mmap_data(piv_data, data, year):\n",
    "    mmap_piv = piv_data[['citizenship', year]]\n",
    "    region = data[['citizenship', 'region']].drop_duplicates().sort_values('citizenship')\n",
    "    result = pd.merge(mmap_piv, region, how='left', on=['citizenship'])\n",
    "    \n",
    "    \n",
    "    num_of_bill = result[year].replace({0:np.nan})\n",
    "    country = result['citizenship']\n",
    "    region = result['region']\n",
    "    \n",
    "    return num_of_bill, country, region"
   ]
  },
  {
   "cell_type": "code",
   "execution_count": 10,
   "metadata": {},
   "outputs": [],
   "source": [
    "num_of_bill, country, region = mmap_data(heat_piv, data, year_dropdown.value) \n",
    "# num_of_bill, country = mmap_data(heat_piv, year_dropdown.value) "
   ]
  },
  {
   "cell_type": "code",
   "execution_count": 11,
   "metadata": {},
   "outputs": [],
   "source": [
    "# create a color map \n",
    "c_sc_mm = bqplot.ColorScale(scheme = \"RdPu\")\n",
    "c_ax_mm = bqplot.ColorAxis(scale = c_sc_mm, orientation = 'vertical', label='Number of Billionaires')\n",
    "\n",
    "#want to sort group by regions or continents and show with different colors\n",
    "mmap = bqplot.market_map.MarketMap(color = num_of_bill, \n",
    "                                  names = country,\n",
    "                                  groups = region,\n",
    "                                  colors = ['Grey'],\n",
    "                                  scales={'color':c_sc_mm}, axes=[c_ax_mm],\n",
    "                                  title='Billionaire Count Market Map',\n",
    "                                  enable_select=True)"
   ]
  },
  {
   "cell_type": "markdown",
   "metadata": {},
   "source": [
    "## Create GDP World Map"
   ]
  },
  {
   "cell_type": "code",
   "execution_count": 12,
   "metadata": {},
   "outputs": [],
   "source": [
    "world_map_piv = data.pivot_table(values='gdp', index='citizenship', \n",
    "                              columns='year', aggfunc=lambda x: sum(x.unique())).fillna(0).reset_index() "
   ]
  },
  {
   "cell_type": "code",
   "execution_count": 13,
   "metadata": {},
   "outputs": [
    {
     "data": {
      "text/html": [
       "<div>\n",
       "<style scoped>\n",
       "    .dataframe tbody tr th:only-of-type {\n",
       "        vertical-align: middle;\n",
       "    }\n",
       "\n",
       "    .dataframe tbody tr th {\n",
       "        vertical-align: top;\n",
       "    }\n",
       "\n",
       "    .dataframe thead th {\n",
       "        text-align: right;\n",
       "    }\n",
       "</style>\n",
       "<table border=\"1\" class=\"dataframe\">\n",
       "  <thead>\n",
       "    <tr style=\"text-align: right;\">\n",
       "      <th>year</th>\n",
       "      <th>citizenship</th>\n",
       "      <th>1996</th>\n",
       "      <th>2001</th>\n",
       "      <th>2014</th>\n",
       "    </tr>\n",
       "  </thead>\n",
       "  <tbody>\n",
       "    <tr>\n",
       "      <th>0</th>\n",
       "      <td>Algeria</td>\n",
       "      <td>0.000000e+00</td>\n",
       "      <td>0.000000e+00</td>\n",
       "      <td>0.0</td>\n",
       "    </tr>\n",
       "    <tr>\n",
       "      <th>1</th>\n",
       "      <td>Angola</td>\n",
       "      <td>0.000000e+00</td>\n",
       "      <td>0.000000e+00</td>\n",
       "      <td>0.0</td>\n",
       "    </tr>\n",
       "    <tr>\n",
       "      <th>2</th>\n",
       "      <td>Argentina</td>\n",
       "      <td>2.720000e+11</td>\n",
       "      <td>2.690000e+11</td>\n",
       "      <td>0.0</td>\n",
       "    </tr>\n",
       "    <tr>\n",
       "      <th>3</th>\n",
       "      <td>Australia</td>\n",
       "      <td>4.010000e+11</td>\n",
       "      <td>3.790000e+11</td>\n",
       "      <td>0.0</td>\n",
       "    </tr>\n",
       "    <tr>\n",
       "      <th>4</th>\n",
       "      <td>Austria</td>\n",
       "      <td>0.000000e+00</td>\n",
       "      <td>0.000000e+00</td>\n",
       "      <td>0.0</td>\n",
       "    </tr>\n",
       "  </tbody>\n",
       "</table>\n",
       "</div>"
      ],
      "text/plain": [
       "year citizenship          1996          2001  2014\n",
       "0        Algeria  0.000000e+00  0.000000e+00   0.0\n",
       "1         Angola  0.000000e+00  0.000000e+00   0.0\n",
       "2      Argentina  2.720000e+11  2.690000e+11   0.0\n",
       "3      Australia  4.010000e+11  3.790000e+11   0.0\n",
       "4        Austria  0.000000e+00  0.000000e+00   0.0"
      ]
     },
     "execution_count": 13,
     "metadata": {},
     "output_type": "execute_result"
    }
   ],
   "source": [
    "world_map_piv.head()"
   ]
  },
  {
   "cell_type": "code",
   "execution_count": 14,
   "metadata": {},
   "outputs": [],
   "source": [
    "# get country id from \"WorldMap.json\" file\n",
    "default_map = Map(map_data=topo_load('map_data/WorldMap.json'))\n",
    "map_prop_list = default_map.map_data['objects']['subunits']['geometries']\n",
    "map_id_dict = {}\n",
    "for i in range(len(map_prop_list)):\n",
    "    map_id_dict[map_prop_list[i]['properties']['name']] = map_prop_list[i]['id']"
   ]
  },
  {
   "cell_type": "code",
   "execution_count": 15,
   "metadata": {
    "scrolled": true
   },
   "outputs": [],
   "source": [
    "# change the country name that is different from the WorldMap.json\n",
    "map_id_dict['Russia'] = map_id_dict.pop('Russian Federation')\n",
    "map_id_dict['Taiwan'] = map_id_dict.pop('Taiwan, Province of China')"
   ]
  },
  {
   "cell_type": "code",
   "execution_count": 16,
   "metadata": {},
   "outputs": [],
   "source": [
    "def create_gdp_colormap(piv_data, year, country_id_dict):\n",
    "    gdp = dict(zip(piv_data['citizenship'], piv_data[year].values.astype(int)))\n",
    "    \n",
    "    country_id_keys = list(country_id_dict)\n",
    "    gdp_keys = list(gdp)\n",
    "    color_dict = {}\n",
    "    for i in range(len(country_id_keys)):\n",
    "        if country_id_keys[i] in gdp_keys:\n",
    "            color_dict[country_id_dict[country_id_keys[i]]] = gdp[country_id_keys[i]]\n",
    "        else:\n",
    "            color_dict[country_id_dict[country_id_keys[i]]] = None\n",
    "        \n",
    "    return color_dict"
   ]
  },
  {
   "cell_type": "code",
   "execution_count": 17,
   "metadata": {
    "scrolled": true
   },
   "outputs": [],
   "source": [
    "color_dict = create_gdp_colormap(world_map_piv, year_dropdown.value, map_id_dict)"
   ]
  },
  {
   "cell_type": "code",
   "execution_count": 18,
   "metadata": {},
   "outputs": [
    {
     "data": {
      "text/plain": [
       "177"
      ]
     },
     "execution_count": 18,
     "metadata": {},
     "output_type": "execute_result"
    }
   ],
   "source": [
    "len(color_dict)"
   ]
  },
  {
   "cell_type": "code",
   "execution_count": 19,
   "metadata": {},
   "outputs": [],
   "source": [
    "map_tt = Tooltip(fields=['name', 'color'], labels=['Country', 'GDP'])\n",
    "\n",
    "c_sc = ColorScale(scheme = \"RdPu\")\n",
    "c_ax = ColorAxis(scale = c_sc, label='GDP')\n",
    "\n",
    "bill_map = Map(map_data=topo_load('map_data/WorldMap.json'), tooltip=map_tt, \n",
    "               color = color_dict, \n",
    "               scales = {'projection': Mercator(), 'color': c_sc}, \n",
    "               colors = {'default_color': 'Grey'},\n",
    "               selected = [] # update when market map is selected\n",
    "              ) \n",
    "\n",
    "map_fig = Figure(marks=[bill_map], axes=[c_ax],title='Billionaire GDP World Map')"
   ]
  },
  {
   "cell_type": "code",
   "execution_count": 20,
   "metadata": {},
   "outputs": [],
   "source": [
    "# create a selector for the heat map and world map\n",
    "mySelectedLabel = ipywidgets.Label()"
   ]
  },
  {
   "cell_type": "markdown",
   "metadata": {},
   "source": [
    "## Create Bar Chart - Industry vs Number of Billionaires"
   ]
  },
  {
   "cell_type": "code",
   "execution_count": 21,
   "metadata": {},
   "outputs": [],
   "source": [
    "industry_piv = data.pivot_table(values='name', \n",
    "                                index='industry', \n",
    "                                columns=['year', 'citizenship'], \n",
    "                                aggfunc='count').fillna(0).reset_index().drop(index=0).set_index('industry')"
   ]
  },
  {
   "cell_type": "code",
   "execution_count": 22,
   "metadata": {},
   "outputs": [
    {
     "data": {
      "text/plain": [
       "industry\n",
       "Constrution                         0.0\n",
       "Consumer                            6.0\n",
       "Diversified financial               5.0\n",
       "Energy                              1.0\n",
       "Hedge funds                         0.0\n",
       "Media                               1.0\n",
       "Mining and metals                   0.0\n",
       "Money Management                    1.0\n",
       "Non-consumer industrial             1.0\n",
       "Other                               2.0\n",
       "Private equity/leveraged buyout     0.0\n",
       "Real Estate                        23.0\n",
       "Retail, Restaurant                  3.0\n",
       "Technology-Computer                 1.0\n",
       "Technology-Medical                  1.0\n",
       "Venture Capital                     0.0\n",
       "banking                             0.0\n",
       "services                            0.0\n",
       "Name: Hong Kong, dtype: float64"
      ]
     },
     "execution_count": 22,
     "metadata": {},
     "output_type": "execute_result"
    }
   ],
   "source": [
    "industry_piv[2014]['Hong Kong']"
   ]
  },
  {
   "cell_type": "code",
   "execution_count": 23,
   "metadata": {},
   "outputs": [],
   "source": [
    "# define the scales, we scale our x & y axis to the scales of the min and max of our data\n",
    "x_sc_in = bqplot.OrdinalScale() \n",
    "y_sc_in = bqplot.LinearScale() \n",
    "x_ax_in = bqplot.Axis(scale = x_sc_in, label = 'Industry')\n",
    "y_ax_in = bqplot.Axis(scale = y_sc_in, orientation = 'vertical', label='Number of Billionaires')"
   ]
  },
  {
   "cell_type": "code",
   "execution_count": 24,
   "metadata": {},
   "outputs": [],
   "source": [
    "#create bar chart\n",
    "select = pd.Series([]) \n",
    "bar = bqplot.Bars(x = [], y = [], scales={'x':x_sc_in, 'y':y_sc_in})\n",
    "bar_fig = bqplot.Figure(marks = [bar], axes = [x_ax_in, y_ax_in], title='Number of Billionaires in each industry')"
   ]
  },
  {
   "cell_type": "markdown",
   "metadata": {},
   "source": [
    "## Create Scatterplot - Founded Year vs Worth in Value\n",
    "Differentiate the data with gender by color: male(blue), female(orange), married couple(green)"
   ]
  },
  {
   "cell_type": "code",
   "execution_count": 25,
   "metadata": {},
   "outputs": [],
   "source": [
    "x_sc_sa = bqplot.OrdinalScale() \n",
    "y_sc_sa = bqplot.LinearScale() \n",
    "x_ax_sa = bqplot.Axis(scale = x_sc_sa, label = 'Company Founded Year')\n",
    "y_ax_sa = bqplot.Axis(scale = y_sc_sa, orientation = 'vertical', label='Worth in billions')"
   ]
  },
  {
   "cell_type": "code",
   "execution_count": 26,
   "metadata": {},
   "outputs": [],
   "source": [
    "c_sc_sa = bqplot.OrdinalColorScale(domain=data['gender'].unique().tolist(), \n",
    "                                colors=bqplot.CATEGORY10[:6])\n",
    "\n",
    "#create scatterplot\n",
    "scat = bqplot.Scatter(x = [], y = [], scales={'x':x_sc_sa, 'y':y_sc_sa, 'color':c_sc_sa}, color=data['gender'])\n",
    "scat_fig = bqplot.Figure(marks = [scat], axes = [x_ax_sa, y_ax_sa], \n",
    "                         title='Company Founded Year vs Worth in Value'\n",
    "                         )"
   ]
  },
  {
   "cell_type": "markdown",
   "metadata": {},
   "source": [
    "## Create a Dashboard\n",
    "1. Dashboard Elements\n",
    "    1. Market Map (Controller) \n",
    "        - It controlls the world map, bar chart, and the scatterplot\n",
    "        - Some grids in the market map do not show it is selected even if you click on the grid. This is an issue of the bqplot package that hasn't been solved\n",
    "    2. World Map\n",
    "        - It will turn red when the user selected a country from the Market Map \n",
    "        - It will show the name and gdp when the user points to the country \n",
    "        - The GDP that show 0 in some countries means either the country do not have billionaires in that year or missing values\n",
    "    3. Bar Chart\n",
    "        - It shows the number of billionaires of each industries based on the selected countries and year\n",
    "    4. Scatter plot\n",
    "        - It shows the relationship between founded year and worth in billions\n",
    "        - The color of the data points represents the genders (male/female/married couple/nan)\n",
    "\n",
    "2. Dataset issues \n",
    "    1. All the gdp records in 2014 and some gdp records in 2001 and 1996 are missing, which are shown as 0 in the world map tooltip\n",
    "    2. GDP record of the countries that do not have billionaires are left blank\n",
    "    3. This world map only contains 177 countries (but there are 192 countries in the world). Some countries such as Hong Kong, Macau, St. Kitts and Nevis which have billionaires aren't inluded in the WorldMap.json file. Thus, it could not be shown in the world map visualization even if we selected it on the market map."
   ]
  },
  {
   "cell_type": "markdown",
   "metadata": {},
   "source": [
    "### Dropdown / Market Map Option Change"
   ]
  },
  {
   "cell_type": "code",
   "execution_count": 27,
   "metadata": {},
   "outputs": [],
   "source": [
    "# select year dropdown \n",
    "def year_changed(change):\n",
    "    # year change, market map change\n",
    "    mmap.color, mmap.name, region = mmap_data(heat_piv, data, year_dropdown.value) \n",
    "    # year change, world map change\n",
    "    bill_map.selected = []\n",
    "    bill_map.color = create_gdp_colormap(world_map_piv, year_dropdown.value, map_id_dict)\n",
    "\n",
    "    try:\n",
    "        ind_piv2 = pd.DataFrame(index=industry_piv.index)\n",
    "        scat_piv2 = pd.DataFrame(index=data.index)\n",
    "        map_select_list = []\n",
    "        for i in range(len(mmap.selected)):\n",
    "            if i == 0:\n",
    "                # select the columns based on year and country\n",
    "                try:\n",
    "                    ind_piv2 = industry_piv[year_dropdown.value][mmap.selected[i]]\n",
    "                    scat_piv2 = data[(data['year']==year_dropdown.value) & (data['citizenship']==mmap.selected[i])]\n",
    "                except KeyError:\n",
    "                    pass\n",
    "            else:\n",
    "                try: \n",
    "                    # select the columns based on year and country, then combine it with the previous dataframe\n",
    "                    ind_piv2 = ind_piv2 + industry_piv[year_dropdown.value][mmap.selected[i]]\n",
    "                    scat_piv = data[(data['year']==year_dropdown.value) & (data['citizenship']==mmap.selected[i])]\n",
    "                    scat_piv2 = scat_piv2.append(scat_piv, sort=False) \n",
    "                except KeyError:\n",
    "                    pass\n",
    "                \n",
    "            # ignore the countries that have billionaires but are not listed in WorldMap.json\n",
    "            try:\n",
    "                map_select_list.append(map_id_dict[mmap.selected[i]])\n",
    "            except KeyError:\n",
    "                pass      \n",
    "                   \n",
    "        # update bar chart\n",
    "        bar.x = ind_piv2.index\n",
    "        bar.y = ind_piv2.values\n",
    "#         print(bar.y)\n",
    "        x_sc_in.domain = list(ind_piv2.index)\n",
    "        \n",
    "        #update scatterplot\n",
    "        sort_scat = scat_piv2.sort_values(by=['founded'])\n",
    "        scat.x = sort_scat['founded']\n",
    "        scat.y = sort_scat['worth in billions']\n",
    "        x_sc_sa.domain = list(scat.x)\n",
    "\n",
    "        # market map select: update color dict change\n",
    "        bill_map.selected = map_select_list\n",
    "        \n",
    "    except KeyError:\n",
    "        pass\n",
    "\n",
    "\n",
    "year_dropdown.observe(year_changed, 'value')"
   ]
  },
  {
   "cell_type": "code",
   "execution_count": 28,
   "metadata": {},
   "outputs": [],
   "source": [
    "# select market map country\n",
    "def get_mmap_value(change):\n",
    "    if mmap.selected == []: \n",
    "        bar.x = []\n",
    "        bar.y = []\n",
    "        x_sc_in.domain=[]\n",
    "        scat.x = []\n",
    "        bill_map.selected = [] \n",
    "        \n",
    "    else: \n",
    "        try:\n",
    "            ind_piv2 = pd.DataFrame(index=industry_piv.index)\n",
    "            scat_piv2 = pd.DataFrame(index=data.index)\n",
    "            map_select_list = []\n",
    "\n",
    "            for i in range(len(mmap.selected)):\n",
    "                if i == 0:\n",
    "                    try:\n",
    "                        # select the columns based on year and country\n",
    "                        ind_piv2 = industry_piv[year_dropdown.value][mmap.selected[i]]\n",
    "                        scat_piv2 = data[(data['year']==year_dropdown.value) & (data['citizenship']==mmap.selected[i])]\n",
    "                    except KeyError:\n",
    "                        pass\n",
    "                else:\n",
    "                    try:\n",
    "                        # select the columns based on year and country, then combine it with the previous dataframe\n",
    "                        ind_piv2 = ind_piv2 + industry_piv[year_dropdown.value][mmap.selected[i]]\n",
    "                        scat_piv = data[(data['year']==year_dropdown.value) & (data['citizenship']==mmap.selected[i])]\n",
    "                        scat_piv2 = scat_piv2.append(scat_piv, sort=False)  \n",
    "                    except KeyError:\n",
    "                        pass\n",
    "\n",
    "                # ignore the countries that have billionaires but are not listed in WorldMap.json\n",
    "                try:\n",
    "                    map_select_list.append(map_id_dict[mmap.selected[i]])\n",
    "                except KeyError:\n",
    "                    pass\n",
    "                \n",
    "            \n",
    "            bar.x = ind_piv2.index\n",
    "            bar.y = ind_piv2.values\n",
    "            x_sc_in.domain = list(ind_piv2.index)\n",
    "\n",
    "            sort_scat = scat_piv2.sort_values(by=['founded'])\n",
    "            scat.x = sort_scat['founded']\n",
    "            scat.y = sort_scat['worth in billions']\n",
    "            x_sc_sa.domain = list(scat.x)\n",
    "\n",
    "            # market map select: update color dict change\n",
    "            bill_map.selected = map_select_list\n",
    "            \n",
    "        except KeyError:\n",
    "            pass\n",
    "    print(mmap.selected) # check market map selection\n",
    "\n",
    "mmap.observe(get_mmap_value, 'selected')"
   ]
  },
  {
   "cell_type": "code",
   "execution_count": 29,
   "metadata": {},
   "outputs": [
    {
     "data": {
      "text/plain": [
       "[]"
      ]
     },
     "execution_count": 29,
     "metadata": {},
     "output_type": "execute_result"
    }
   ],
   "source": [
    "# For debugging\n",
    "# When we execute the market map, a blue square will show if the country is selected\n",
    "# However, some countries in market map such as Hong Kong and US does not show a blue square even if it is selected\n",
    "# this cell is to see whether you have successfully selected the country or not \n",
    "mmap.selected"
   ]
  },
  {
   "cell_type": "code",
   "execution_count": 30,
   "metadata": {
    "scrolled": false
   },
   "outputs": [
    {
     "data": {
      "application/vnd.jupyter.widget-view+json": {
       "model_id": "3c2cb1014e61473e9eca1db98ab9884d",
       "version_major": 2,
       "version_minor": 0
      },
      "text/plain": [
       "VBox(children=(Label(value=''), HBox(children=(Dropdown(description='Year:', options=(1996, 2001, 2014), value…"
      ]
     },
     "metadata": {},
     "output_type": "display_data"
    },
    {
     "name": "stdout",
     "output_type": "stream",
     "text": [
      "['Peru']\n",
      "['Peru', 'Colombia']\n",
      "['Peru', 'Colombia', 'Singapore']\n",
      "['Peru', 'Colombia', 'Singapore', 'Finland']\n"
     ]
    }
   ],
   "source": [
    "mmap.layout.min_width = '960px'\n",
    "mmap.layout.min_height = '400px'\n",
    "\n",
    "map_fig.layout.min_width = '960px'\n",
    "map_fig.layout.min_height = '600px'\n",
    "\n",
    "ipywidgets.VBox([mySelectedLabel, \n",
    "                 ipywidgets.HBox([year_dropdown]), \n",
    "                 mmap, map_fig, \n",
    "                 ipywidgets.HBox([bar_fig, scat_fig])]) "
   ]
  },
  {
   "cell_type": "code",
   "execution_count": null,
   "metadata": {},
   "outputs": [],
   "source": []
  }
 ],
 "metadata": {
  "kernelspec": {
   "display_name": "Python 3",
   "language": "python",
   "name": "python3"
  },
  "language_info": {
   "codemirror_mode": {
    "name": "ipython",
    "version": 3
   },
   "file_extension": ".py",
   "mimetype": "text/x-python",
   "name": "python",
   "nbconvert_exporter": "python",
   "pygments_lexer": "ipython3",
   "version": "3.7.2"
  }
 },
 "nbformat": 4,
 "nbformat_minor": 2
}
